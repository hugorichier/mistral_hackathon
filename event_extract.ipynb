{
 "cells": [
  {
   "cell_type": "code",
   "execution_count": 1,
   "metadata": {},
   "outputs": [],
   "source": [
    "import os\n",
    "\n",
    "os.environ['MISTRAL_API_KEY'] = ''"
   ]
  },
  {
   "cell_type": "code",
   "execution_count": 2,
   "metadata": {},
   "outputs": [],
   "source": [
    "from langchain_mistralai import ChatMistralAI\n",
    "\n",
    "llm = ChatMistralAI(model=\"mistral-large-latest\", temperature=0.2)"
   ]
  },
  {
   "cell_type": "code",
   "execution_count": 3,
   "metadata": {},
   "outputs": [],
   "source": [
    "from mistralan.chains.event_extractor import get_event_extractor"
   ]
  },
  {
   "cell_type": "code",
   "execution_count": 4,
   "metadata": {},
   "outputs": [],
   "source": [
    "chain = get_event_extractor(llm)"
   ]
  },
  {
   "cell_type": "code",
   "execution_count": 5,
   "metadata": {},
   "outputs": [],
   "source": [
    "message = \"\"\"**Therapist**: How are you doing today?\n",
    "\n",
    "**Patient**: I’m... not sure, to be honest. I feel kind of off. I’ve been having a hard time getting out of bed lately.\n",
    "\n",
    "**Therapist**: I see. When you say you feel \"off,\" what do you mean? Is it a physical feeling, or more emotional?\n",
    "\n",
    "**Patient**: It’s more emotional, I think. I just feel like there’s this constant heaviness, like a weight I can’t shake. It's hard to explain.\n",
    "\n",
    "**Therapist**: That sounds difficult. How long have you been feeling this way?\n",
    "\n",
    "**Patient**: Maybe a couple of months? I don’t know. It feels like it's been longer, but I didn’t really notice it until recently.\n",
    "\n",
    "**Therapist**: What do you think might have triggered this feeling? Can you recall any specific events or changes around that time?\n",
    "\n",
    "**Patient**: Well, I lost my job about three months ago, and things have been really hard since then. I thought I was handling it okay, but I guess... maybe I'm not?\n",
    "\n",
    "**Therapist**: Losing a job can be a huge stressor. It makes sense that you’d feel a range of emotions about it. How did you feel when it first happened?\n",
    "\n",
    "**Patient**: At first, I was just angry. It felt so unfair. I’d been at that company for years, and suddenly I was just... gone. But now, I don’t know. I feel more... numb? It’s like I don’t care about anything anymore.\n",
    "\n",
    "**Therapist**: Numbness can sometimes be a way our mind tries to protect us from overwhelming emotions. Do you feel that numbness in other areas of your life, too?\n",
    "\n",
    "**Patient**: Yeah, actually. I used to be excited about small things, like meeting friends or going to the gym. Now, it’s like I don’t even have the energy to try.\n",
    "\n",
    "**Therapist**: It sounds like this sense of heaviness and numbness is affecting many areas of your life. How has it been impacting your relationships?\n",
    "\n",
    "**Patient**: I’ve kind of pulled away from people. My friends invite me to things, but I always find an excuse not to go. I just don’t feel like I can be around people right now.\n",
    "\n",
    "**Therapist**: Have any of your friends noticed this change in you? Have they reached out?\n",
    "\n",
    "**Patient**: A couple of them have. One friend texted me the other day, asking if I was okay because I’ve been \"off the grid.\" I didn’t really know what to say, so I just said I was busy.\n",
    "\n",
    "**Therapist**: It sounds like you're feeling disconnected, both from yourself and others. Do you think talking to someone—like your friends—about what you're going through might help?\n",
    "\n",
    "**Patient**: Maybe. But I don’t want to burden anyone with my problems, you know?\n",
    "\n",
    "**Therapist**: I understand that feeling, but sometimes sharing what we’re going through can help ease that weight, even if it’s just a little. Do you think there’s a fear of how they might respond?\n",
    "\n",
    "**Patient**: Yeah, a little. I don’t want them to think I’m falling apart. I’ve always been the strong one in the group. It's hard to let them see me like this.\n",
    "\n",
    "**Therapist**: It sounds like you're putting a lot of pressure on yourself to maintain that image of strength. But strength can look different in different situations. Sometimes, reaching out for help can be one of the strongest things we do.\n",
    "\n",
    "**Patient**: I’ve never thought about it that way. I guess I’ve always felt like I had to handle everything on my own.\n",
    "\n",
    "**Therapist**: That’s a common feeling, but it's important to remember that you don’t have to carry everything by yourself. What would it be like to let others in, even just a little?\n",
    "\n",
    "**Patient**: I don’t know... I guess it could help. But it’s scary. I don’t want them to see me as weak.\n",
    "\n",
    "**Therapist**: I hear that. There’s a lot of vulnerability in opening up, especially when you've always been the one others rely on. But vulnerability isn’t a weakness—it’s a part of being human. What’s one small step you could take toward sharing what you're going through?\n",
    "\n",
    "**Patient**: Maybe I could reach out to that friend who texted me. She’s been through tough stuff before, so maybe she’ll understand.\n",
    "\n",
    "**Therapist**: That sounds like a really good first step. How would it feel to let her know you’ve been struggling and that you’re not feeling yourself?\n",
    "\n",
    "**Patient**: I think it would feel... a little relieving, actually. Just admitting it out loud.\n",
    "\n",
    "**Therapist**: That relief is important. You deserve to feel supported, and it’s okay to ask for help when you need it. Let's explore how you can approach that conversation, if you feel ready.\n",
    "\n",
    "**Patient**: Yeah, I think I’d like that.\"\"\""
   ]
  },
  {
   "cell_type": "code",
   "execution_count": 6,
   "metadata": {},
   "outputs": [],
   "source": [
    "from mistralan.schemas import ConversationChunk, ConversationInfo"
   ]
  },
  {
   "cell_type": "code",
   "execution_count": 7,
   "metadata": {},
   "outputs": [],
   "source": [
    "from datetime import date"
   ]
  },
  {
   "cell_type": "code",
   "execution_count": 8,
   "metadata": {},
   "outputs": [],
   "source": [
    "chunk = ConversationChunk(\n",
    "    info=ConversationInfo(\n",
    "        id=\"0\",\n",
    "        patient_name='RoBERTo',\n",
    "        patient_id=\"0\",\n",
    "        date=date.today()\n",
    "    ),\n",
    "    content=message,\n",
    "    ts=0\n",
    ")"
   ]
  },
  {
   "cell_type": "code",
   "execution_count": 9,
   "metadata": {},
   "outputs": [],
   "source": [
    "res = chain.invoke(chunk)"
   ]
  },
  {
   "cell_type": "code",
   "execution_count": 10,
   "metadata": {},
   "outputs": [
    {
     "data": {
      "text/plain": [
       "Events(events=[Event(name='Job Loss', start_date='2024-07-12', end_date=None, description='The patient lost their job.', participants=['Patient'], cid='job_loss'), Event(name=\"Friend's Text\", start_date='2024-10-10', end_date=None, description='A friend texted the patient asking if they were okay.', participants=['Patient', 'Friend'], cid=\"friend's_text\")])"
      ]
     },
     "execution_count": 10,
     "metadata": {},
     "output_type": "execute_result"
    }
   ],
   "source": [
    "res"
   ]
  },
  {
   "cell_type": "code",
   "execution_count": 8,
   "metadata": {},
   "outputs": [],
   "source": [
    "from pprint import pprint"
   ]
  },
  {
   "cell_type": "code",
   "execution_count": 9,
   "metadata": {},
   "outputs": [
    {
     "name": "stdout",
     "output_type": "stream",
     "text": [
      "[Event(name='Job loss', start_date='2024-01-12', end_date=None, description='The patient lost their job.', participants=['Patient']),\n",
      " Event(name=\"Friend's text\", start_date='2024-04-10', end_date=None, description='A friend texted the patient asking if they were okay.', participants=['Patient', 'Friend'])]\n"
     ]
    }
   ],
   "source": [
    "pprint(res.events)"
   ]
  }
 ],
 "metadata": {
  "kernelspec": {
   "display_name": "base",
   "language": "python",
   "name": "python3"
  },
  "language_info": {
   "codemirror_mode": {
    "name": "ipython",
    "version": 3
   },
   "file_extension": ".py",
   "mimetype": "text/x-python",
   "name": "python",
   "nbconvert_exporter": "python",
   "pygments_lexer": "ipython3",
   "version": "3.10.15"
  }
 },
 "nbformat": 4,
 "nbformat_minor": 2
}
